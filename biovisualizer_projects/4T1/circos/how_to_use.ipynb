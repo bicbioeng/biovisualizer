{
 "cells": [
  {
   "cell_type": "code",
   "execution_count": null,
   "metadata": {},
   "outputs": [],
   "source": [
    "%matplotlib inline\n",
    "import sys\n",
    "sys.path.append(\"../../../tool_kit/off_the_shelf/circos\")\n",
    "import numpy as np\n",
    "from pycircos import *"
   ]
  },
  {
   "cell_type": "code",
   "execution_count": null,
   "metadata": {},
   "outputs": [],
   "source": [
    "#Set locus \n",
    "gcircle = Gcircle()\n",
    "gcircle.add_locus(\"1\", 1000, bottom=900, height=100) #name, length, bottom (0<=bottom<=1000), height (0<=bottom<=1000)\n",
    "gcircle.add_locus(\"2\", 2000, bottom=900, height=100, facecolor=\"#ED665D\")\n",
    "gcircle.add_locus(\"3\", 3000, bottom=900, height=100, facecolor=\"#6DCCDA\")\n",
    "gcircle.add_locus(\"4\", 2000, bottom=800, height=100, facecolor=\"#ED97CA\")\n",
    "gcircle.add_locus(\"5\", 5000, bottom=950, height=50, facecolor=\"#EDC948\")\n",
    "gcircle.set_locus() #Creat figure object\n",
    "gcircle.save() "
   ]
  },
  {
   "cell_type": "code",
   "execution_count": null,
   "metadata": {},
   "outputs": [],
   "source": [
    "#Example of scatter plot\n",
    "data = np.random.rand(100)\n",
    "gcircle.scatter_plot(\"1\", data, bottom=900, height=-100)\n",
    "gcircle.save() "
   ]
  },
  {
   "cell_type": "code",
   "execution_count": null,
   "metadata": {},
   "outputs": [],
   "source": [
    "#Example of line plot\n",
    "data = np.random.rand(100)\n",
    "gcircle.line_plot(\"2\", data, bottom=600, height=100)\n",
    "gcircle.save() "
   ]
  },
  {
   "cell_type": "code",
   "execution_count": null,
   "metadata": {},
   "outputs": [],
   "source": [
    "#Example of heatmap\n",
    "data = np.random.rand(50)\n",
    "gcircle.heatmap(\"3\", data, bottom=600, height=100)\n",
    "gcircle.save() "
   ]
  },
  {
   "cell_type": "code",
   "execution_count": null,
   "metadata": {},
   "outputs": [],
   "source": [
    "#Example of batplot\n",
    "data = np.random.rand(50)\n",
    "gcircle.bar_plot(\"4\", data, bottom=600, height=-200)\n",
    "gcircle.save() "
   ]
  },
  {
   "cell_type": "code",
   "execution_count": null,
   "metadata": {},
   "outputs": [],
   "source": [
    "#Example of batplot\n",
    "data = np.random.rand(50)\n",
    "gcircle.bar_plot(\"4\", data, bottom=600, height=200)\n",
    "gcircle.save() "
   ]
  },
  {
   "cell_type": "code",
   "execution_count": null,
   "metadata": {},
   "outputs": [],
   "source": [
    "#Example of chord plot\n",
    "data = np.random.rand(50)\n",
    "gcircle.chord_plot([\"4\", 1000, 1100], [\"1\", 200, 400], bottom=400)\n",
    "gcircle.chord_plot([\"5\", 1000, 1100, 950], [\"3\", 1000, 2000, 600], color=\"#FF0000\")\n",
    "gcircle.chord_plot([\"5\", 4000, 4500, 950], [\"2\", 500, 1000, 400], color=\"#F2BE2B\")\n",
    "gcircle.save() "
   ]
  }
 ],
 "metadata": {
  "kernelspec": {
   "display_name": "Python 3",
   "language": "python",
   "name": "python3"
  },
  "language_info": {
   "codemirror_mode": {
    "name": "ipython",
    "version": 3
   },
   "file_extension": ".py",
   "mimetype": "text/x-python",
   "name": "python",
   "nbconvert_exporter": "python",
   "pygments_lexer": "ipython3",
   "version": "3.8.5"
  }
 },
 "nbformat": 4,
 "nbformat_minor": 4
}
