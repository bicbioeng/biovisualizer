{
 "cells": [
  {
   "cell_type": "code",
   "execution_count": null,
   "metadata": {},
   "outputs": [],
   "source": [
    "from PIL import Image\n",
    "import plotly.graph_objects as go\n",
    "import numpy as np\n",
    "def open_image(resolution, imm):\n",
    "    img = imm\n",
    "    fast_x = []\n",
    "    fast_y = []\n",
    "    fast_z = []\n",
    "\n",
    "    for i in range(1, 74):\n",
    "\n",
    "        img.seek(i)\n",
    "\n",
    "        img1 = img.resize((int(resolution), int(resolution)))\n",
    "        rgb_im = img1.convert('RGB')\n",
    "        data = np.insert(np.transpose(np.nonzero(np.sum(np.asarray(rgb_im, dtype=\"int32\"), axis=2))), 2, i, axis=1)\n",
    "\n",
    "        if data is not []:\n",
    "            for n in data:\n",
    "                fast_x.append(n[0])\n",
    "                fast_y.append(n[1])\n",
    "                fast_z.append(n[2])\n",
    "\n",
    "    return fast_x, fast_y, fast_z\n",
    "\n",
    "\n",
    "def dots():\n",
    "    resolution=160\n",
    "    imm=Image.open('../../../biovisualizer_dataset/project_data/plotly/AICS-13_1256.ome_struct_segmentation.tiff')\n",
    "    # open image\n",
    "    x, y, z = open_image(resolution, imm)\n",
    "\n",
    "    fig = go.Figure(data=[go.Scatter3d(x=x, y=y, z=z,\n",
    "                                       mode='markers', marker=dict(\n",
    "                                           size=0.8, symbol='square', color='orange'\n",
    "                                       )\n",
    "                                       )])\n",
    "\n",
    "    # set z axis scale\n",
    "    fig.update_layout(\n",
    "        scene=dict(\n",
    "            zaxis=dict(range=[0, 100], ), ))\n",
    "    fig.update_layout(scene_aspectmode='data')\n",
    "    fig.show()\n",
    "dots()"
   ]
  }
 ],
 "metadata": {
  "colab": {
   "collapsed_sections": [],
   "name": "Biovisualizer_code.ipynb",
   "provenance": []
  },
  "kernelspec": {
   "display_name": "Python 3",
   "language": "python",
   "name": "python3"
  },
  "language_info": {
   "codemirror_mode": {
    "name": "ipython",
    "version": 3
   },
   "file_extension": ".py",
   "mimetype": "text/x-python",
   "name": "python",
   "nbconvert_exporter": "python",
   "pygments_lexer": "ipython3",
   "version": "3.8.5"
  }
 },
 "nbformat": 4,
 "nbformat_minor": 1
}
